{
 "cells": [
  {
   "cell_type": "markdown",
   "id": "5f0df385",
   "metadata": {},
   "source": [
    "# Estructura de Datos \n",
    "## Conjuntos"
   ]
  },
  {
   "cell_type": "code",
   "execution_count": 1,
   "id": "423c1780",
   "metadata": {},
   "outputs": [
    {
     "name": "stdout",
     "output_type": "stream",
     "text": [
      "{'manzana', 'naranja', 'plátano', 'pera'}\n"
     ]
    }
   ],
   "source": [
    "# Crear un conjunto con frutas (duplicados se eliminan automáticamente)\n",
    "frutas = {'manzana', 'naranja', 'manzana', 'pera', 'naranja', 'plátano'}\n",
    "print(frutas)  # {'naranja', 'plátano', 'pera', 'manzana'}\n",
    "\n"
   ]
  },
  {
   "cell_type": "code",
   "execution_count": 2,
   "id": "c21c7a1e",
   "metadata": {},
   "outputs": [
    {
     "name": "stdout",
     "output_type": "stream",
     "text": [
      "True\n",
      "False\n"
     ]
    }
   ],
   "source": [
    "# Verificar pertenencia (muy rápido)\n",
    "print('naranja' in frutas)  # True\n",
    "print('uva' in frutas)      # False\n",
    "\n"
   ]
  },
  {
   "cell_type": "code",
   "execution_count": 5,
   "id": "95300a2d",
   "metadata": {},
   "outputs": [
    {
     "name": "stdout",
     "output_type": "stream",
     "text": [
      "{'a', 'c', 'r', 'd', 'b'}\n",
      "5\n"
     ]
    }
   ],
   "source": [
    "# Crear conjunto desde una cadena\n",
    "letras_unicas = set('abracadabra')\n",
    "print(letras_unicas)  # {'a', 'r', 'b', 'c', 'd'}\n",
    "print(len(letras_unicas)) "
   ]
  },
  {
   "cell_type": "markdown",
   "id": "3f0f0ef9",
   "metadata": {},
   "source": [
    "## Diccionarios"
   ]
  },
  {
   "cell_type": "code",
   "execution_count": 19,
   "id": "fd4fc27b",
   "metadata": {},
   "outputs": [
    {
     "data": {
      "text/plain": [
       "[{'nombre': 'Ana', 'edad': 20, 'carrera': 'Ingeniería', 'notas': [85, 90, 78]},\n",
       " {'nombre': 'Mateo', 'edad': 18, 'carrera': 'Ingeniería', 'notas': [4, 5, 4]},\n",
       " {'nombre': 'Samuel', 'edad': 18, 'carrera': 'Ingeniería', 'notas': [5, 5, 4]},\n",
       " {'nombre': 'Joseph', 'edad': 17, 'carrera': 'Ingeniería', 'notas': [5, 5, 5]}]"
      ]
     },
     "execution_count": 19,
     "metadata": {},
     "output_type": "execute_result"
    }
   ],
   "source": [
    "# Diccionario de ejemplo\n",
    "estudiante = [\n",
    "    {'nombre': 'Ana',\n",
    "    'edad': 20,\n",
    "    'carrera': 'Ingeniería',\n",
    "    'notas': [85, 90, 78]},\n",
    "    {'nombre': 'Mateo',\n",
    "    'edad': 18,\n",
    "    'carrera': 'Ingeniería',\n",
    "    'notas': [4, 5, 4]},\n",
    "    {'nombre': 'Samuel',\n",
    "    'edad': 18,\n",
    "    'carrera': 'Ingeniería',\n",
    "    'notas': [5, 5, 4]},\n",
    "    {'nombre': 'Joseph',\n",
    "    'edad': 17,\n",
    "    'carrera': 'Ingeniería',\n",
    "    'notas': [5, 5, 5]} \n",
    "]\n",
    "estudiante\n",
    "\n"
   ]
  },
  {
   "cell_type": "code",
   "execution_count": 24,
   "id": "5f544fbd",
   "metadata": {},
   "outputs": [
    {
     "name": "stdout",
     "output_type": "stream",
     "text": [
      "19\n"
     ]
    },
    {
     "data": {
      "text/plain": [
       "[{'nombre': 'Ana', 'edad': 20, 'notas': [85, 90, 78]},\n",
       " {'nombre': 'Mateo', 'edad': 18, 'carrera': 'Ingeniería', 'notas': [4, 5, 4]},\n",
       " {'nombre': 'Samuel', 'edad': 19, 'carrera': 'Ingeniería', 'notas': [5, 5, 4]},\n",
       " {'nombre': 'Joseph', 'edad': 17, 'carrera': 'Ingeniería', 'notas': [5, 5, 5]}]"
      ]
     },
     "execution_count": 24,
     "metadata": {},
     "output_type": "execute_result"
    }
   ],
   "source": [
    "# Modificar valor de la edad del tercer estudiante\n",
    "estudiante[2]['edad'] = 19\n",
    "print(estudiante[2]['edad'])  # 19\n",
    "estudiante\n",
    "\n",
    "\n"
   ]
  },
  {
   "cell_type": "code",
   "execution_count": null,
   "id": "8e6bc1b0",
   "metadata": {},
   "outputs": [
    {
     "data": {
      "text/plain": [
       "[{'nombre': 'Ana', 'edad': 20, 'notas': [85, 90, 78]},\n",
       " {'nombre': 'Mateo', 'edad': 18, 'carrera': 'Ingeniería', 'notas': [4, 5, 4]},\n",
       " {'nombre': 'Samuel', 'edad': 19, 'carrera': 'Ingeniería', 'notas': [5, 5, 4]},\n",
       " {'nombre': 'Joseph', 'edad': 17, 'carrera': 'Ingeniería', 'notas': [5, 5, 5]}]"
      ]
     },
     "execution_count": 27,
     "metadata": {},
     "output_type": "execute_result"
    }
   ],
   "source": [
    "# Eliminar clave\n",
    "del estudiante[0]['carrera']\n",
    "estudiante  \n",
    "\n"
   ]
  },
  {
   "cell_type": "code",
   "execution_count": 28,
   "id": "181874d5",
   "metadata": {},
   "outputs": [
    {
     "name": "stdout",
     "output_type": "stream",
     "text": [
      "False\n",
      "False\n"
     ]
    }
   ],
   "source": [
    "# Verificar si existe clave\n",
    "print('nombre' in estudiante)  # True\n",
    "print('carrera' in estudiante)  # False\n",
    "\n"
   ]
  },
  {
   "cell_type": "code",
   "execution_count": null,
   "id": "02160e48",
   "metadata": {},
   "outputs": [],
   "source": [
    "# Obtener todas las claves\n",
    "claves = list(estudiante.keys())\n",
    "claves "
   ]
  },
  {
   "cell_type": "code",
   "execution_count": null,
   "id": "4296ecde",
   "metadata": {},
   "outputs": [],
   "source": [
    "# Obtener todos los valores\n",
    "valores = list(estudiante.values())\n",
    "print(valores)  "
   ]
  },
  {
   "cell_type": "markdown",
   "id": "f9357041",
   "metadata": {},
   "source": [
    "## Lista como Pilas"
   ]
  },
  {
   "cell_type": "code",
   "execution_count": 33,
   "id": "87823554",
   "metadata": {},
   "outputs": [
    {
     "name": "stdout",
     "output_type": "stream",
     "text": [
      "=== Demostración de la estructura de datos Pila (Stack) ===\n",
      "\n",
      "1. Pila recién creada: Pila(Tope <- []) | ¿Vacía? True\n",
      "\n",
      "2. Apilando (10, 20, 30, 40)...\n",
      "   Estado actual: Pila(Tope <- [10, 20, 30, 40])\n",
      "   Tope (peek): 40\n",
      "   Tamaño: 4\n",
      "\n",
      "3. Desapilando dos elementos (LIFO)...\n",
      "   Desapilado primero: 40\n",
      "   Desapilado segundo: 30\n",
      "   Estado actual: Pila(Tope <- [10, 20])\n",
      "   Nuevo tope: 20\n",
      "\n",
      "4. Ejemplo práctico: Invertir la palabra 'DATA' con la Pila.\n",
      "   Palabra original: DATA\n",
      "   Palabra invertida: ATAD\n"
     ]
    }
   ],
   "source": [
    "class Pila:\n",
    "    \"\"\"\n",
    "    Implementación de una estructura de datos Pila (Stack).\n",
    "    Funciona bajo el principio LIFO (Last In, First Out) usando una lista.\n",
    "    Las operaciones clave (apilar/desapilar) tienen complejidad O(1).\n",
    "    \"\"\"\n",
    "    def __init__(self):\n",
    "        \"\"\"Inicializa una pila vacía.\"\"\"\n",
    "        self.items = []\n",
    " \n",
    "    def apilar(self, elemento):\n",
    "        \"\"\"Agrega un elemento al tope de la pila (O(1)).\"\"\"\n",
    "        self.items.append(elemento)\n",
    " \n",
    "    def desapilar(self):\n",
    "        \"\"\"\n",
    "        Elimina y retorna el elemento del tope de la pila (O(1)).\n",
    "        Retorna: El elemento del tope, o None si la pila está vacía.\n",
    "        \"\"\"\n",
    "        if self.esta_vacia():\n",
    "            return None\n",
    "        return self.items.pop()\n",
    " \n",
    "    def ver_tope(self):\n",
    "        \"\"\"\n",
    "        Retorna el elemento del tope sin eliminarlo (O(1)).\n",
    "        Retorna: El elemento del tope, o None si la pila está vacía.\n",
    "        \"\"\"\n",
    "        if self.esta_vacia():\n",
    "            return None\n",
    "        # Acceder al último elemento de la lista\n",
    "        return self.items[-1]\n",
    " \n",
    "    def esta_vacia(self):\n",
    "        \"\"\"Verifica si la pila está vacía.\"\"\"\n",
    "        return not self.items # Es True si la lista está vacía (len == 0)\n",
    " \n",
    "    def tamano(self):\n",
    "        \"\"\"Retorna el número de elementos en la pila.\"\"\"\n",
    "        return len(self.items)\n",
    "    # --- Métodos Especiales de Python ---\n",
    "    def __len__(self):\n",
    "        \"\"\"Permite usar len(pila) para obtener el tamaño.\"\"\"\n",
    "        return len(self.items)\n",
    " \n",
    "    def __str__(self):\n",
    "        \"\"\"Representación legible para el usuario (p.ej., print(pila)).\"\"\"\n",
    "        # Muestra los elementos de la pila de forma intuitiva\n",
    "        return f\"Pila(Tope <- {self.items})\"\n",
    " \n",
    "    def __repr__(self):\n",
    "        \"\"\"Representación para desarrolladores (cómo se crearía el objeto).\"\"\"\n",
    "        return f\"Pila(items={self.items})\"\n",
    " \n",
    "# --------------------------------------------------\n",
    "# ===== DEMOSTRACIÓN DE USO (Bloque principal) =====\n",
    "# --------------------------------------------------\n",
    " \n",
    "if __name__ == \"__main__\":\n",
    "    print(\"=== Demostración de la estructura de datos Pila (Stack) ===\\n\")\n",
    "    mi_pila = Pila()\n",
    "    print(f\"1. Pila recién creada: {mi_pila} | ¿Vacía? {mi_pila.esta_vacia()}\")\n",
    "    # --- Apilar elementos ---\n",
    "    print(\"\\n2. Apilando (10, 20, 30, 40)...\")\n",
    "    mi_pila.apilar(10)\n",
    "    mi_pila.apilar(20)\n",
    "    mi_pila.apilar(30)\n",
    "    mi_pila.apilar(40)\n",
    "    print(f\"   Estado actual: {mi_pila}\")\n",
    "    print(f\"   Tope (peek): {mi_pila.ver_tope()}\")\n",
    "    print(f\"   Tamaño: {len(mi_pila)}\")\n",
    "    # --- Desapilar elementos (LIFO) ---\n",
    "    print(\"\\n3. Desapilando dos elementos (LIFO)...\")\n",
    "    elemento_1 = mi_pila.desapilar() # Sale 40\n",
    "    elemento_2 = mi_pila.desapilar() # Sale 30\n",
    "    print(f\"   Desapilado primero: {elemento_1}\")\n",
    "    print(f\"   Desapilado segundo: {elemento_2}\")\n",
    "    print(f\"   Estado actual: {mi_pila}\")\n",
    "    print(f\"   Nuevo tope: {mi_pila.ver_tope()}\")\n",
    "    # --- Ejemplo práctico: Invertir una palabra ---\n",
    "    print(\"\\n4. Ejemplo práctico: Invertir la palabra 'DATA' con la Pila.\")\n",
    "    palabra = \"DATA\"\n",
    "    pila_letras = Pila()\n",
    "    # Llenar la pila\n",
    "    for letra in palabra:\n",
    "        pila_letras.apilar(letra)\n",
    "    # Vaciar la pila para obtener la palabra invertida\n",
    "    palabra_invertida = \"\"\n",
    "    while not pila_letras.esta_vacia():\n",
    "        palabra_invertida += pila_letras.desapilar()\n",
    "    print(f\"   Palabra original: {palabra}\")\n",
    "    print(f\"   Palabra invertida: {palabra_invertida}\")"
   ]
  },
  {
   "cell_type": "markdown",
   "id": "55f20196",
   "metadata": {},
   "source": [
    "## Listas como Colas"
   ]
  },
  {
   "cell_type": "code",
   "execution_count": 35,
   "id": "d96fa6d1",
   "metadata": {},
   "outputs": [
    {
     "name": "stdout",
     "output_type": "stream",
     "text": [
      "📝 Pedido #1 agregado para Ana\n",
      "📝 Pedido #2 agregado para Carlos\n",
      "📝 Pedido #3 agregado para María\n",
      "📝 Pedido #4 agregado para Juan\n",
      "\\n📊 ESTADO DEL SISTEMA\n",
      "🔄 Pedidos pendientes: 4\n",
      "✅ Pedidos completados: 0\n",
      "\\n📋 Próximos pedidos:\n",
      "   1. #1 - Ana (3 items)\n",
      "   2. #2 - Carlos (2 items)\n",
      "   3. #3 - María (2 items)\n",
      "   4. #4 - Juan (2 items)\n",
      "\\n🍳 Procesando pedidos...\n",
      "✅ Pedido #1 completado para Ana\n",
      "✅ Pedido #2 completado para Carlos\n",
      "\\n📊 ESTADO DEL SISTEMA\n",
      "🔄 Pedidos pendientes: 2\n",
      "✅ Pedidos completados: 2\n",
      "\\n📋 Próximos pedidos:\n",
      "   1. #3 - María (2 items)\n",
      "   2. #4 - Juan (2 items)\n"
     ]
    }
   ],
   "source": [
    "# Ejemplo real: Sistema de gestión de pedidos de restaurante\n",
    "from collections import deque\n",
    "import time\n",
    "import random\n",
    "\n",
    "class SistemaPedidos:\n",
    "    def __init__(self):\n",
    "        self.pendientes = deque()  # Cola de pedidos pendientes\n",
    "        self.completados = []     # Lista de pedidos completados\n",
    "        self.numero_pedido = 1\n",
    "\n",
    "    def agregar_pedido(self, cliente, items):\n",
    "        \"\"\"Agrega un nuevo pedido a la cola\"\"\"\n",
    "        pedido = {\n",
    "            'numero': self.numero_pedido,\n",
    "            'cliente': cliente,\n",
    "            'items': items,\n",
    "            'hora': time.strftime(\"%H:%M:%S\"),\n",
    "            'estado': 'pendiente'\n",
    "        }\n",
    "        self.pendientes.append(pedido)\n",
    "        self.numero_pedido += 1\n",
    "        print(f\"📝 Pedido #{pedido['numero']} agregado para {cliente}\")\n",
    "        return pedido['numero']\n",
    "\n",
    "    def procesar_siguiente_pedido(self):\n",
    "        \"\"\"Procesa el siguiente pedido en la cola\"\"\"\n",
    "        if not self.pendientes:\n",
    "            print(\"⚠️ No hay pedidos pendientes\")\n",
    "            return None\n",
    "\n",
    "        pedido = self.pendientes.popleft()\n",
    "        pedido['estado'] = 'completado'\n",
    "        pedido['hora_completado'] = time.strftime(\"%H:%M:%S\")\n",
    "        self.completados.append(pedido)\n",
    "\n",
    "        print(f\"✅ Pedido #{pedido['numero']} completado para {pedido['cliente']}\")\n",
    "        return pedido\n",
    "\n",
    "    def mostrar_estado(self):\n",
    "        \"\"\"Muestra el estado actual del sistema\"\"\"\n",
    "        print(f\"\\\\n📊 ESTADO DEL SISTEMA\")\n",
    "        print(f\"🔄 Pedidos pendientes: {len(self.pendientes)}\")\n",
    "        print(f\"✅ Pedidos completados: {len(self.completados)}\")\n",
    "\n",
    "        if self.pendientes:\n",
    "            print(\"\\\\n📋 Próximos pedidos:\")\n",
    "            for i, pedido in enumerate(self.pendientes):\n",
    "                print(f\"   {i+1}. #{pedido['numero']} - {pedido['cliente']} ({len(pedido['items'])} items)\")\n",
    "\n",
    "# Simulación del sistema\n",
    "sistema = SistemaPedidos()\n",
    "\n",
    "# Agregar varios pedidos\n",
    "sistema.agregar_pedido(\"Ana\", [\"Hamburguesa\", \"Papas fritas\", \"Refresco\"])\n",
    "sistema.agregar_pedido(\"Carlos\", [\"Pizza familiar\", \"Ensalada\"])\n",
    "sistema.agregar_pedido(\"María\", [\"Sushi\", \"Sopa miso\"])\n",
    "sistema.agregar_pedido(\"Juan\", [\"Tacos\", \"Agua de horchata\"])\n",
    "\n",
    "# Mostrar estado inicial\n",
    "sistema.mostrar_estado()\n",
    "\n",
    "# Procesar algunos pedidos\n",
    "print(\"\\\\n🍳 Procesando pedidos...\")\n",
    "sistema.procesar_siguiente_pedido()\n",
    "sistema.procesar_siguiente_pedido()\n",
    "\n",
    "# Mostrar estado final\n",
    "sistema.mostrar_estado()"
   ]
  }
 ],
 "metadata": {
  "kernelspec": {
   "display_name": "Python 3",
   "language": "python",
   "name": "python3"
  },
  "language_info": {
   "codemirror_mode": {
    "name": "ipython",
    "version": 3
   },
   "file_extension": ".py",
   "mimetype": "text/x-python",
   "name": "python",
   "nbconvert_exporter": "python",
   "pygments_lexer": "ipython3",
   "version": "3.14.0"
  }
 },
 "nbformat": 4,
 "nbformat_minor": 5
}
